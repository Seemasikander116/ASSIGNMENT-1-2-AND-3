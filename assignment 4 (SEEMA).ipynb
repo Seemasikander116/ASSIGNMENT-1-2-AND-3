{
 "cells": [
  {
   "cell_type": "markdown",
   "metadata": {},
   "source": [
    "Seema Sikander\n",
    "seemasikander116@gmail.com\n",
    "Assignment 04"
   ]
  },
  {
   "cell_type": "code",
   "execution_count": 5,
   "metadata": {},
   "outputs": [],
   "source": [
    "#Question 1\n",
    "data={\"first_name\":{\"Seema\"},\"last_name\":{\"Sikander\"},\"Age\":{20},\"city\":{\"Karachi\"}}\n",
    "      "
   ]
  },
  {
   "cell_type": "code",
   "execution_count": 7,
   "metadata": {},
   "outputs": [
    {
     "name": "stdout",
     "output_type": "stream",
     "text": [
      "{'Seema'}\n"
     ]
    }
   ],
   "source": [
    "print(data[\"first_name\"])"
   ]
  },
  {
   "cell_type": "code",
   "execution_count": 8,
   "metadata": {},
   "outputs": [
    {
     "name": "stdout",
     "output_type": "stream",
     "text": [
      "{'Sikander'}\n"
     ]
    }
   ],
   "source": [
    "print(data[\"last_name\"])"
   ]
  },
  {
   "cell_type": "code",
   "execution_count": 9,
   "metadata": {},
   "outputs": [
    {
     "name": "stdout",
     "output_type": "stream",
     "text": [
      "{20}\n"
     ]
    }
   ],
   "source": [
    "print(data[\"Age\"])"
   ]
  },
  {
   "cell_type": "code",
   "execution_count": 10,
   "metadata": {},
   "outputs": [
    {
     "name": "stdout",
     "output_type": "stream",
     "text": [
      "{'Karachi'}\n"
     ]
    }
   ],
   "source": [
    "print(data[\"city\"])"
   ]
  },
  {
   "cell_type": "code",
   "execution_count": 4,
   "metadata": {},
   "outputs": [
    {
     "name": "stdout",
     "output_type": "stream",
     "text": [
      "One of my favourite Book is Alicein Wonderland\n"
     ]
    }
   ],
   "source": [
    "##Question 4\n",
    "def favourite_book(title):\n",
    "  print(\"One of my favourite Book is \" + title + \"in Wonderland\")\n",
    "\n",
    "favourite_book(\"Alice\")\n",
    "    "
   ]
  },
  {
   "cell_type": "code",
   "execution_count": 1,
   "metadata": {},
   "outputs": [
    {
     "name": "stdout",
     "output_type": "stream",
     "text": [
      "\n",
      "lahore\n",
      "\n",
      "country : pakistan\n",
      "population : 12188000\n",
      "fact : Lahore is the capital city of the Pakistani province of Punjab. It is the second largest and most populous city in Pakistan\n",
      "\n",
      "karachi\n",
      "\n",
      "country : pakistan\n",
      "population : 15741000\n",
      "fact : Karachi is vital to Pakistan's economy, contributing 42 per cent of GDP , 70 per cent of income tax revenue and 62 per cent of sales tax revenue\n",
      "\n",
      "islamabad\n",
      "\n",
      "country : pakistan\n",
      "population : 1095064\n",
      "fact : \n"
     ]
    }
   ],
   "source": [
    "#Question 2\n",
    "cities={\n",
    "    \"lahore\":{\n",
    "        \"country\":\"pakistan\",\n",
    "        \"population\":12188000,\n",
    "        \"fact\":\"Lahore is the capital city of the Pakistani province of Punjab. It is the second largest and most populous city in Pakistan\"\n",
    "    },\n",
    "    \"karachi\":{\n",
    "        \"country\":\"pakistan\",\n",
    "        \"population\":15741000,\n",
    "        \"fact\":\"Karachi is vital to Pakistan's economy, contributing 42 per cent of GDP , 70 per cent of income tax revenue and 62 per cent of sales tax revenue\"\n",
    "    },\n",
    "    \"islamabad\":{\n",
    "        \"country\":\"pakistan\",\n",
    "        \"population\":1095064,\n",
    "        \"fact\":\"\"\n",
    "    }\n",
    "}\n",
    "for citykey,cityinfo in cities.items():\n",
    "    print(\"\\n\"+citykey+\"\\n\")\n",
    "    for city in cityinfo:\n",
    "        print(city+\" : \"+str(cityinfo[city]))"
   ]
  },
  {
   "cell_type": "code",
   "execution_count": 2,
   "metadata": {},
   "outputs": [
    {
     "name": "stdout",
     "output_type": "stream",
     "text": [
      "Enter age : 20\n",
      "Ticket is 15$\n",
      "Are you want to take ticket y/n: y\n",
      "Enter age : 11\n",
      "Ticket is 10$\n",
      "Are you want to take ticket y/n: n\n"
     ]
    }
   ],
   "source": [
    "#Question 3\n",
    "flag='y'\n",
    "while flag!='n':\n",
    "    age=int(input(\"Enter age : \"))\n",
    "    if age>12:\n",
    "        print(\"Ticket is 15$\")\n",
    "    elif age>=3:\n",
    "        print(\"Ticket is 10$\")\n",
    "    else:\n",
    "        print(\"Ticket is free\")\n",
    "    flag=input(\"Are you want to take ticket y/n: \")"
   ]
  },
  {
   "cell_type": "code",
   "execution_count": 3,
   "metadata": {},
   "outputs": [
    {
     "name": "stdout",
     "output_type": "stream",
     "text": [
      "Enter the Guess Number: 343\n",
      "You Guess Higher Number\n",
      "Computer's Guess Number:  10\n",
      "Enter the Guess Number: 12\n",
      "You Guess Lower Number\n",
      "Computer's Guess Number:  22\n",
      "Enter the Guess Number: 2\n",
      "You Guess Lower Number\n",
      "Computer's Guess Number:  13\n"
     ]
    }
   ],
   "source": [
    "#Question 5\n",
    "import random\n",
    "count = 0\n",
    "while count < 3:\n",
    "    guess = int(input(\"Enter the Guess Number: \"))\n",
    "    count += 1\n",
    "    rand = random.randint(1,30)\n",
    "    if guess == rand:\n",
    "        print(\"You Guess Correct Number\")\n",
    "    elif guess > rand:\n",
    "        print(\"You Guess Higher Number\")\n",
    "    elif guess < rand:\n",
    "        print(\"You Guess Lower Number\")\n",
    "    print(\"Computer's Guess Number: \",rand)"
   ]
  },
  {
   "cell_type": "code",
   "execution_count": null,
   "metadata": {},
   "outputs": [],
   "source": []
  }
 ],
 "metadata": {
  "kernelspec": {
   "display_name": "Python 3",
   "language": "python",
   "name": "python3"
  },
  "language_info": {
   "codemirror_mode": {
    "name": "ipython",
    "version": 3
   },
   "file_extension": ".py",
   "mimetype": "text/x-python",
   "name": "python",
   "nbconvert_exporter": "python",
   "pygments_lexer": "ipython3",
   "version": "3.7.4"
  }
 },
 "nbformat": 4,
 "nbformat_minor": 2
}
