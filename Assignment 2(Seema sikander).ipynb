{
 "cells": [
  {
   "cell_type": "markdown",
   "metadata": {},
   "source": [
    "Seema Sikander\n",
    "Assignment #2\n",
    "Email: seemasikander116@gmail.com\n",
    "Batch 2\n",
    "NetAcad ID 1002892071"
   ]
  },
  {
   "cell_type": "code",
   "execution_count": 1,
   "metadata": {},
   "outputs": [
    {
     "name": "stdout",
     "output_type": "stream",
     "text": [
      "enter marks of the first subject54\n",
      "enter marks of the second subject65\n",
      "enter marks of the third subject43\n",
      "enter marks of the forth subject66\n",
      "enter marks of the fifth subject45\n",
      "total mark = 273\n",
      "percentage is = 54.6\n",
      "Grade C\n"
     ]
    }
   ],
   "source": [
    "sub1=int(input(\"enter marks of the first subject\"))\n",
    "sub2=int(input(\"enter marks of the second subject\"))\n",
    "sub3=int(input(\"enter marks of the third subject\"))\n",
    "sub4=int(input(\"enter marks of the forth subject\"))\n",
    "sub5=int(input(\"enter marks of the fifth subject\"))\n",
    "total=sub1+sub2+sub3+sub4+sub5\n",
    "print(\"total mark =\",total)\n",
    "per=total/500*100\n",
    "print(\"percentage is =\",per)\n",
    "if (per>=80 and per<100):\n",
    "    print(\"Grade A+\")\n",
    "elif (per>=70 and per<80):\n",
    "    print(\"Grade A\")\n",
    "elif (per>=60 and per<70):\n",
    "    print(\"Grade B\")\n",
    "elif (per>=50 and per<60):\n",
    "    print(\"Grade C\")\n",
    "elif (per>=33 and per<50):\n",
    "    print(\"Grade D\")\n",
    "else:\n",
    "    print(\"fail\")"
   ]
  },
  {
   "cell_type": "markdown",
   "metadata": {},
   "source": [
    "2. Write a program which take input from user and identify that the given¶\n",
    "number is even or odd?"
   ]
  },
  {
   "cell_type": "code",
   "execution_count": 2,
   "metadata": {},
   "outputs": [
    {
     "name": "stdout",
     "output_type": "stream",
     "text": [
      "enter your first number34\n",
      "Your Number is Even\n"
     ]
    }
   ],
   "source": [
    "num1=int(input(\"enter your first number\"))\n",
    "if(num1%2==0):\n",
    "    print(\"Your Number is Even\")\n",
    "else:\n",
    "    print(\"Your Number is Odd\")"
   ]
  },
  {
   "cell_type": "markdown",
   "metadata": {},
   "source": [
    "\n",
    "3. Write a program which print the length of the list?"
   ]
  },
  {
   "cell_type": "code",
   "execution_count": 3,
   "metadata": {},
   "outputs": [
    {
     "name": "stdout",
     "output_type": "stream",
     "text": [
      "the length of list is 7\n"
     ]
    }
   ],
   "source": [
    "arr=[\"A\",2,4,5,6,7,8]\n",
    "print(\"the length of list is\",len(arr))"
   ]
  },
  {
   "cell_type": "markdown",
   "metadata": {},
   "source": [
    "4. Write a Python program to sum all the numeric items in a list?"
   ]
  },
  {
   "cell_type": "code",
   "execution_count": 4,
   "metadata": {},
   "outputs": [
    {
     "name": "stdout",
     "output_type": "stream",
     "text": [
      "Sum of all elements in given list:  63\n"
     ]
    }
   ],
   "source": [
    "list1 = [10, 25, 23, 2, 3] \n",
    "total = sum(list1) \n",
    "print(\"Sum of all elements in given list: \", total)"
   ]
  },
  {
   "cell_type": "markdown",
   "metadata": {},
   "source": [
    "5. Write a Python program to get the largest number from a numeric list."
   ]
  },
  {
   "cell_type": "code",
   "execution_count": 5,
   "metadata": {},
   "outputs": [
    {
     "name": "stdout",
     "output_type": "stream",
     "text": [
      "Largest element is: 99\n"
     ]
    }
   ],
   "source": [
    "list1 = [10, 20, 4, 45, 99]  \n",
    "print(\"Largest element is:\", max(list1))"
   ]
  },
  {
   "cell_type": "markdown",
   "metadata": {},
   "source": [
    "6. Take a list, say for example this one:a = [1, 1, 2, 3, 5, 8, 13, 21, 34, 55, 89]\n",
    "and write a program that prints out all the elements of the list that are\n",
    "less than 5."
   ]
  },
  {
   "cell_type": "code",
   "execution_count": 6,
   "metadata": {},
   "outputs": [
    {
     "name": "stdout",
     "output_type": "stream",
     "text": [
      "1\n",
      "1\n",
      "2\n",
      "3\n"
     ]
    }
   ],
   "source": [
    "a = [1, 1, 2, 3, 5, 8, 13, 21, 34, 55, 89]\n",
    "\n",
    "for i in a:\n",
    "\n",
    "    if i < 5:\n",
    "\n",
    "        print(i)"
   ]
  },
  {
   "cell_type": "code",
   "execution_count": null,
   "metadata": {},
   "outputs": [],
   "source": []
  }
 ],
 "metadata": {
  "kernelspec": {
   "display_name": "Python 3",
   "language": "python",
   "name": "python3"
  },
  "language_info": {
   "codemirror_mode": {
    "name": "ipython",
    "version": 3
   },
   "file_extension": ".py",
   "mimetype": "text/x-python",
   "name": "python",
   "nbconvert_exporter": "python",
   "pygments_lexer": "ipython3",
   "version": "3.7.4"
  }
 },
 "nbformat": 4,
 "nbformat_minor": 2
}
